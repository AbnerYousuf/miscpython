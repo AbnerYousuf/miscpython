{
  "nbformat": 4,
  "nbformat_minor": 0,
  "metadata": {
    "colab": {
      "provenance": []
    },
    "kernelspec": {
      "name": "python3",
      "display_name": "Python 3"
    },
    "language_info": {
      "name": "python"
    }
  },
  "cells": [
    {
      "cell_type": "markdown",
      "source": [
        "#Superhero Name"
      ],
      "metadata": {
        "id": "q7Sc4zTS7LMd"
      }
    },
    {
      "cell_type": "code",
      "source": [
        "adjective = input(\"Please enter the first adjective on the 13th page of the nearest book to you.\\n\")\n",
        "noun = input(\"Please enter something that scares you.\\n\")\n",
        "print(f\"Your superhero name is {adjective}{noun}\")"
      ],
      "metadata": {
        "colab": {
          "base_uri": "https://localhost:8080/"
        },
        "id": "fsdcHigJ4NfG",
        "outputId": "952dc07d-3a3f-4806-a420-77ada8aa1d33"
      },
      "execution_count": 6,
      "outputs": [
        {
          "output_type": "stream",
          "name": "stdout",
          "text": [
            "Please enter the first adjective on the 13th page of the nearest book to you.\n",
            "Happy\n",
            "Please enter something that scares you.\n",
            "Bee\n",
            "Your superhero name is HappyBee\n"
          ]
        }
      ]
    },
    {
      "cell_type": "markdown",
      "source": [
        "#Split Bill Calculator"
      ],
      "metadata": {
        "id": "-57zosxc7Nx-"
      }
    },
    {
      "cell_type": "code",
      "execution_count": 15,
      "metadata": {
        "colab": {
          "base_uri": "https://localhost:8080/"
        },
        "id": "fL79jrzebBJG",
        "outputId": "ce43b60a-56a7-4eed-8d90-00d2a0659d0f"
      },
      "outputs": [
        {
          "output_type": "stream",
          "name": "stdout",
          "text": [
            "Please provide the total cost of the meal\n",
            "100\n",
            "Please provide the percentage you'd like to tip\n",
            "5\n",
            "Please provide the number of people at the table\n",
            "3\n",
            "Your total tip is 5.0. The total bill is 105.0. Your cost per person is 35.0.\n",
            "\n"
          ]
        }
      ],
      "source": [
        "totalcost = int(input(\"Please provide the total cost of the meal\\n\"))\n",
        "tippercentage = int(input(\"Please provide the percentage you'd like to tip\\n\"))\n",
        "partysize = int(input(\"Please provide the number of people at the table\\n\"))\n",
        "totaltip = totalcost * (tippercentage/100)\n",
        "totalcostplustip = totalcost + totaltip\n",
        "costperperson = totalcostplustip/partysize\n",
        "print(f\"Your total tip is {totaltip}. The total bill is {totalcostplustip}. Your cost per person is {costperperson}.\\n\")"
      ]
    }
  ]
}